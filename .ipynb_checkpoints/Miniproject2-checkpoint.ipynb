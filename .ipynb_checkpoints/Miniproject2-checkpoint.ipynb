{
 "cells": [
  {
   "cell_type": "code",
   "execution_count": 36,
   "metadata": {},
   "outputs": [
    {
     "ename": "FileNotFoundError",
     "evalue": "[Errno 2] No such file or directory: 'response.json'",
     "output_type": "error",
     "traceback": [
      "\u001b[0;31m---------------------------------------------------------------------------\u001b[0m",
      "\u001b[0;31mFileNotFoundError\u001b[0m                         Traceback (most recent call last)",
      "\u001b[0;32m<ipython-input-36-76c3eb415c0b>\u001b[0m in \u001b[0;36m<module>\u001b[0;34m\u001b[0m\n\u001b[1;32m     22\u001b[0m \u001b[0my_response\u001b[0m \u001b[0;34m=\u001b[0m \u001b[0mre\u001b[0m\u001b[0;34m.\u001b[0m\u001b[0mget\u001b[0m\u001b[0;34m(\u001b[0m\u001b[0my_url\u001b[0m\u001b[0;34m,\u001b[0m \u001b[0mparams\u001b[0m\u001b[0;34m=\u001b[0m\u001b[0my_params\u001b[0m\u001b[0;34m,\u001b[0m \u001b[0mheaders\u001b[0m\u001b[0;34m=\u001b[0m\u001b[0my_headers\u001b[0m\u001b[0;34m)\u001b[0m\u001b[0;34m\u001b[0m\u001b[0;34m\u001b[0m\u001b[0m\n\u001b[1;32m     23\u001b[0m \u001b[0;34m\u001b[0m\u001b[0m\n\u001b[0;32m---> 24\u001b[0;31m \u001b[0;32mwith\u001b[0m \u001b[0mopen\u001b[0m\u001b[0;34m(\u001b[0m\u001b[0;34m'response.json'\u001b[0m\u001b[0;34m)\u001b[0m \u001b[0;32mas\u001b[0m \u001b[0mf\u001b[0m\u001b[0;34m:\u001b[0m\u001b[0;34m\u001b[0m\u001b[0;34m\u001b[0m\u001b[0m\n\u001b[0m\u001b[1;32m     25\u001b[0m     \u001b[0mresponse_list\u001b[0m \u001b[0;34m=\u001b[0m \u001b[0mjson\u001b[0m\u001b[0;34m.\u001b[0m\u001b[0mload\u001b[0m\u001b[0;34m(\u001b[0m\u001b[0mf\u001b[0m\u001b[0;34m)\u001b[0m\u001b[0;34m\u001b[0m\u001b[0;34m\u001b[0m\u001b[0m\n\u001b[1;32m     26\u001b[0m \u001b[0mprint\u001b[0m\u001b[0;34m(\u001b[0m\u001b[0mtype\u001b[0m\u001b[0;34m(\u001b[0m\u001b[0mresponse_list\u001b[0m\u001b[0;34m)\u001b[0m\u001b[0;34m)\u001b[0m\u001b[0;34m\u001b[0m\u001b[0;34m\u001b[0m\u001b[0m\n",
      "\u001b[0;31mFileNotFoundError\u001b[0m: [Errno 2] No such file or directory: 'response.json'"
     ]
    }
   ],
   "source": [
    "import requests as re\n",
    "import pandas as pd\n",
    "import json\n",
    "import os\n",
    "import pprint as pp\n",
    "# Load API Keys from OS environmental variables\n",
    "fs_client_id = os.environ[\"FOURSQUARE_CLIENT_ID\"]\n",
    "fs_client_secret = os.environ[\"FOURSQUARE_CLIENT_SECRET\"]\n",
    "y_API_key = os.environ[\"YELP_API_KEY\"]\n",
    "\n",
    "# Define API URLs with corresponding parametrs \n",
    "fs_url = 'https://api.foursquare.com/v2/venues/explore'\n",
    "fs_params = {'client_id' : fs_client_id, 'client_secret' : fs_client_secret, 'll' : '43.6491,-79.3796',\n",
    "            'radius' : 1500, 'section' : 'food', 'v' : '20210114', 'limit' : 1}\n",
    "y_url = 'https://api.yelp.com/v3/businesses/search'\n",
    "y_params = {'term' : 'food', 'latitude' : 43.6491, 'longitude' : -79.3796, 'radius' : 1500 , \n",
    "            'limit' : 1, 'sort_by' : 'rating', 'attributes' : 'hot_and_new'}\n",
    "y_headers = {'Authorization' : f'Bearer {y_API_key}'}\n",
    "\n",
    "# Make API calls\n",
    "fs_response = re.get(fs_url, params=fs_params).json()\n",
    "y_response = re.get(y_url, params=y_params, headers=y_headers)\n",
    "\n",
    "with open('response.json') as f:\n",
    "    response_list = json.load(f)\n",
    "print(type(response_list))\n",
    "#fs_response_list = json.load(fs_response)\n",
    "\n",
    "# Convert to Pandas Dataframes\n",
    "#pd.json_normalize(fs_response)"
   ]
  },
  {
   "cell_type": "code",
   "execution_count": 5,
   "metadata": {},
   "outputs": [
    {
     "data": {
      "text/plain": [
       "<Response [200]>"
      ]
     },
     "execution_count": 5,
     "metadata": {},
     "output_type": "execute_result"
    }
   ],
   "source": [
    "# #y_API_key = os.environ[]\n",
    "# #y_client_secret = os.environ[]\n",
    "# import requests as re\n",
    "# y_API_key = os.environ[\"YELP_API_KEY\"]\n",
    "\n",
    "# y_url = 'https://api.yelp.com/v3/businesses/search'\n",
    "# y_params = {'term' : 'food', 'latitude' : 43.6491, 'longitude' : -79.3796, 'radius' : 1500 , \n",
    "#             'limit' : 1, 'sort_by' : 'rating', 'attributes' : 'hot_and_new'}\n",
    "# y_headers = {'Authorization' : f'Bearer {y_API_key}'} \n",
    "# re.get(y_url, params=y_params, headers=y_headers)"
   ]
  }
 ],
 "metadata": {
  "kernelspec": {
   "display_name": "Python 3",
   "language": "python",
   "name": "python3"
  },
  "language_info": {
   "codemirror_mode": {
    "name": "ipython",
    "version": 3
   },
   "file_extension": ".py",
   "mimetype": "text/x-python",
   "name": "python",
   "nbconvert_exporter": "python",
   "pygments_lexer": "ipython3",
   "version": "3.7.6"
  }
 },
 "nbformat": 4,
 "nbformat_minor": 4
}
