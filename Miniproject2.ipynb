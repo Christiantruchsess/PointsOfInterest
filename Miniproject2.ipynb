{
 "cells": [
  {
   "cell_type": "code",
   "execution_count": 32,
   "metadata": {},
   "outputs": [],
   "source": [
    "import requests as re\n",
    "import pandas as pd\n",
    "import json\n",
    "import os\n",
    "import pprint as pp\n",
    "# Load API Keys from OS environmental variables\n",
    "fs_client_id = os.environ[\"FOURSQUARE_CLIENT_ID\"]\n",
    "fs_client_secret = os.environ[\"FOURSQUARE_CLIENT_SECRET\"]\n",
    "y_API_key = os.environ[\"YELP_API_KEY\"]\n",
    "\n",
    "# Define number of venues to index\n",
    "num_venues = 10\n",
    "\n",
    "# Define API URLs with corresponding parametrs \n",
    "fs_url = 'https://api.foursquare.com/v2/venues/explore'\n",
    "fs_params = {'client_id' : fs_client_id, 'client_secret' : fs_client_secret, 'll' : '43.6491,-79.3796',\n",
    "            'radius' : 1500, 'section' : 'food', 'v' : '20210114', 'limit' : num_venues}\n",
    "y_url = 'https://api.yelp.com/v3/businesses/search'\n",
    "y_params = {'term' : 'food', 'latitude' : 43.6491, 'longitude' : -79.3796, 'radius' : 1500 , \n",
    "            'limit' : num_venues, 'sort_by' : 'rating', 'attributes' : 'hot_and_new'}\n",
    "y_headers = {'Authorization' : f'Bearer {y_API_key}'}\n",
    "\n",
    "# Make API calls\n",
    "fs_response = re.get(fs_url, params=fs_params).json()\n",
    "#y_response = re.get(y_url, params=y_params, headers=y_headers)\n",
    "\n",
    "#pp.pprint(fs_response)\n",
    "# with open('response.json') as f:\n",
    "#     response_list = json.load(f)\n",
    "# print(type(response_list))\n",
    "#fs_response_list = json.load(fs_response)\n",
    "\n",
    "# Convert to Pandas Dataframes\n",
    "#pd.json_normalize(fs_response)"
   ]
  },
  {
   "cell_type": "code",
   "execution_count": 42,
   "metadata": {},
   "outputs": [
    {
     "name": "stdout",
     "output_type": "stream",
     "text": [
      "<class 'dict'>\n"
     ]
    },
    {
     "data": {
      "text/html": [
       "<div>\n",
       "<style scoped>\n",
       "    .dataframe tbody tr th:only-of-type {\n",
       "        vertical-align: middle;\n",
       "    }\n",
       "\n",
       "    .dataframe tbody tr th {\n",
       "        vertical-align: top;\n",
       "    }\n",
       "\n",
       "    .dataframe thead th {\n",
       "        text-align: right;\n",
       "    }\n",
       "</style>\n",
       "<table border=\"1\" class=\"dataframe\">\n",
       "  <thead>\n",
       "    <tr style=\"text-align: right;\">\n",
       "      <th></th>\n",
       "      <th>meta.code</th>\n",
       "      <th>meta.requestId</th>\n",
       "      <th>response.suggestedFilters.header</th>\n",
       "      <th>response.suggestedFilters.filters</th>\n",
       "      <th>response.headerLocation</th>\n",
       "      <th>response.headerFullLocation</th>\n",
       "      <th>response.headerLocationGranularity</th>\n",
       "      <th>response.query</th>\n",
       "      <th>response.totalResults</th>\n",
       "      <th>response.suggestedBounds.ne.lat</th>\n",
       "      <th>response.suggestedBounds.ne.lng</th>\n",
       "      <th>response.suggestedBounds.sw.lat</th>\n",
       "      <th>response.suggestedBounds.sw.lng</th>\n",
       "      <th>response.groups</th>\n",
       "    </tr>\n",
       "  </thead>\n",
       "  <tbody>\n",
       "    <tr>\n",
       "      <th>0</th>\n",
       "      <td>200</td>\n",
       "      <td>6000c53d5d7adf267b6dbeac</td>\n",
       "      <td>Tap to show:</td>\n",
       "      <td>[{'name': 'Open now', 'key': 'openNow'}]</td>\n",
       "      <td>Financial District</td>\n",
       "      <td>Financial District, Toronto</td>\n",
       "      <td>neighborhood</td>\n",
       "      <td>food</td>\n",
       "      <td>129</td>\n",
       "      <td>43.6626</td>\n",
       "      <td>-79.360978</td>\n",
       "      <td>43.6356</td>\n",
       "      <td>-79.398222</td>\n",
       "      <td>[{'type': 'Recommended Places', 'name': 'recom...</td>\n",
       "    </tr>\n",
       "  </tbody>\n",
       "</table>\n",
       "</div>"
      ],
      "text/plain": [
       "   meta.code            meta.requestId response.suggestedFilters.header  \\\n",
       "0        200  6000c53d5d7adf267b6dbeac                     Tap to show:   \n",
       "\n",
       "          response.suggestedFilters.filters response.headerLocation  \\\n",
       "0  [{'name': 'Open now', 'key': 'openNow'}]      Financial District   \n",
       "\n",
       "   response.headerFullLocation response.headerLocationGranularity  \\\n",
       "0  Financial District, Toronto                       neighborhood   \n",
       "\n",
       "  response.query  response.totalResults  response.suggestedBounds.ne.lat  \\\n",
       "0           food                    129                          43.6626   \n",
       "\n",
       "   response.suggestedBounds.ne.lng  response.suggestedBounds.sw.lat  \\\n",
       "0                       -79.360978                          43.6356   \n",
       "\n",
       "   response.suggestedBounds.sw.lng  \\\n",
       "0                       -79.398222   \n",
       "\n",
       "                                     response.groups  \n",
       "0  [{'type': 'Recommended Places', 'name': 'recom...  "
      ]
     },
     "execution_count": 42,
     "metadata": {},
     "output_type": "execute_result"
    }
   ],
   "source": [
    "print(type(fs_response))\n",
    "pd.json_normalize(fs_response)"
   ]
  },
  {
   "cell_type": "code",
   "execution_count": 33,
   "metadata": {},
   "outputs": [
    {
     "name": "stdout",
     "output_type": "stream",
     "text": [
      "['140 Yonge St (at Temperance St)', 'Toronto ON M5C 1X6', 'Canada']\n",
      "['Commerce Court East', 'Toronto ON', 'Canada']\n",
      "['1 Richmond Street West (Yonge Street)', 'Toronto ON', 'Canada']\n",
      "['66 Wellington St West (at Bay Street)', 'Toronto ON M5K 1H6', 'Canada']\n",
      "['100 King St W (at Bay St.)', 'Toronto ON', 'Canada']\n",
      "['1959 Queen St E', 'Toronto ON M4L 1H7', 'Canada']\n",
      "['56 Temperance Street', 'Toronto ON M5H 3V5', 'Canada']\n",
      "['18 King St. E (at Yonge St.)', 'Toronto ON M5C 1C4', 'Canada']\n",
      "['1 King St W (Yonge St)', 'Toronto ON', 'Canada']\n",
      "['10 Temperance St fl 5 (Yonge St)', 'Toronto ON M5H 1Y4', 'Canada']\n"
     ]
    }
   ],
   "source": [
    "for i in range(0,num_venues):\n",
    "    pp.pprint(fs_response['response']['groups'][0]['items'][i]['venue']['location']['formattedAddress'])"
   ]
  },
  {
   "cell_type": "code",
   "execution_count": 35,
   "metadata": {},
   "outputs": [
    {
     "name": "stdout",
     "output_type": "stream",
     "text": [
      "'Dineen Coffee'\n",
      "'Mos Mos Coffee'\n",
      "'Richmond Station'\n",
      "'Canoe'\n",
      "'Brick Street Bakery'\n",
      "'Hogtown Smoke'\n",
      "'John & Sons Oyster House'\n",
      "'Beerbistro'\n",
      "'Café Plenty'\n",
      "'The Chase'\n"
     ]
    }
   ],
   "source": [
    "for i in range(0,num_venues):\n",
    "    pp.pprint(fs_response['response']['groups'][0]['items'][i]['venue']['name'])"
   ]
  },
  {
   "cell_type": "code",
   "execution_count": null,
   "metadata": {},
   "outputs": [],
   "source": []
  }
 ],
 "metadata": {
  "kernelspec": {
   "display_name": "Python 3",
   "language": "python",
   "name": "python3"
  },
  "language_info": {
   "codemirror_mode": {
    "name": "ipython",
    "version": 3
   },
   "file_extension": ".py",
   "mimetype": "text/x-python",
   "name": "python",
   "nbconvert_exporter": "python",
   "pygments_lexer": "ipython3",
   "version": "3.7.6"
  }
 },
 "nbformat": 4,
 "nbformat_minor": 4
}
